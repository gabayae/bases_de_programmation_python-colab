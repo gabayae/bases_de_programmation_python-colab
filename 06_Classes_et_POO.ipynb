{
  "nbformat": 4,
  "nbformat_minor": 0,
  "metadata": {
    "kernelspec": {
      "display_name": "Python 3",
      "language": "python",
      "name": "python3"
    },
    "language_info": {
      "codemirror_mode": {
        "name": "ipython",
        "version": 3
      },
      "file_extension": ".py",
      "mimetype": "text/x-python",
      "name": "python",
      "nbconvert_exporter": "python",
      "pygments_lexer": "ipython3",
      "version": "3.7.3"
    },
    "varInspector": {
      "cols": {
        "lenName": 16,
        "lenType": 16,
        "lenVar": 40
      },
      "kernels_config": {
        "python": {
          "delete_cmd_postfix": "",
          "delete_cmd_prefix": "del ",
          "library": "var_list.py",
          "varRefreshCmd": "print(var_dic_list())"
        },
        "r": {
          "delete_cmd_postfix": ") ",
          "delete_cmd_prefix": "rm(",
          "library": "var_list.r",
          "varRefreshCmd": "cat(var_dic_list()) "
        }
      },
      "types_to_exclude": [
        "module",
        "function",
        "builtin_function_or_method",
        "instance",
        "_Feature"
      ],
      "window_display": false
    },
    "colab": {
      "name": "06.Classes_et_POO.ipynb",
      "provenance": [],
      "include_colab_link": true
    }
  },
  "cells": [
    {
      "cell_type": "markdown",
      "metadata": {
        "id": "view-in-github",
        "colab_type": "text"
      },
      "source": [
        "<a href=\"https://colab.research.google.com/github/gabayae/bases_de_programmation_python-colab/blob/main/06_Classes_et_POO.ipynb\" target=\"_parent\"><img src=\"https://colab.research.google.com/assets/colab-badge.svg\" alt=\"Open In Colab\"/></a>"
      ]
    },
    {
      "cell_type": "markdown",
      "metadata": {
        "id": "BpLKUAjYFXyi"
      },
      "source": [
        "****\n",
        "\n",
        "# <center> <b> <span style=\"color:orange;\"> Programmation en Python </span> </b></center>\n",
        "\n",
        "## <center> <b> <span style=\"color:green;\">Des applications en Calcul Scientifique -  Statistiques -  Science des Données</span> </b></center>\n",
        "\n",
        "\n",
        "****\n",
        "\n",
        "# <center> <b> <span style=\"color:blue;\">Classes et POO </span> </b></center>\n",
        "\n",
        "\n",
        "<!--NAVIGATION-->\n",
        "< [05. Fonctions, Modules et Packages](https://colab.research.google.com/github/gabayae/bases_de_programmation_python-colab/blob/main/05_Fonctions_Modules_et_Packages.ipynb#scrollTo=ngJQyYdgE5ul)| [Sommaire](https://colab.research.google.com/github/gabayae/bases_de_programmation_python-colab/blob/main/Index.ipynb#scrollTo=RWN5HlnaGJiA)>\n",
        "\n",
        "\n",
        "****\n",
        "\n",
        "\n",
        "\n",
        "\n",
        "### <left> <b> <span style=\"color:brown;\">Instructeur : </span> </b></left>[Yaé Ulrich Gaba](https://github.com/gabayae)\n",
        "\n",
        "\n",
        "> **Résumé:** Ce calepin présente les principes généraux de la Programmation Orientée Objet (POO)\n",
        "appliqués à Python. Un objet est une entité de programmation, disposant de ses propres états et fonctionnalités. C’est le concept central de la POO. \n",
        "\n",
        "****"
      ]
    },
    {
      "cell_type": "markdown",
      "metadata": {
        "id": "jC6fvVgKFXyp"
      },
      "source": [
        "Dès qu’un programme grossit, une structuration en classes, modules et paquets facilite grandement son évolution, sa lisibilité et sa maintenance. Même si elle n’est pas imposée, Python permet la programmation orientée objet.\n",
        "Tous les mécanismes objet essentiels sont implémentés et toutes les données manipulées sont des instances de classes\n",
        "\n",
        "La *Programmation Orientée Objet (POO)* :\n",
        "- la POO permet de mieux modéliser la réalité en concevant des ensembles d’objets, les *classes*.\n",
        "- Ces classes permettent de construire des *objets* interactifs entre eux et avec le monde extérieur.\n",
        "- Les objets sont créés indépendamment les uns des autres, grâce à\n",
        "*l’encapsulation*, mécanisme qui permet d’embarquer leurs propriétés.\n",
        "- Les classes permettent d’éviter au maximum l’emploi des variables globales.\n",
        "- Enfin les classes offrent un moyen économique et puissant de construire de\n",
        "nouveaux objets à partir d’objets préexistants."
      ]
    },
    {
      "cell_type": "markdown",
      "metadata": {
        "id": "DZXNKUuuFXys"
      },
      "source": [
        "Au concept d’objet sont liées les notions de :\n",
        "    \n",
        "- **Classe** : il s’agit d’un *modèle* d’objet, dans lequel sont définis ses propriétés usuelles. P.ex. la classe\n",
        "__Forme__ peut représenter une forme plane caractérisée par sa couleur, et disposant de fonctionnalités\n",
        "propres, p.ex. `change_couleur()`.\n",
        "- **Instantiation** : c’est le fait générer un objet concret (une *instance*) à partir d’un modèle (une\n",
        "classe). P.ex. rosie = __Forme('rose')__ crée une instance rosie à partir de la classe __Forme__ et d’une\n",
        "couleur (chaîne de caractères __'rose'__).\n",
        "- **Attributs** : variables internes décrivant l’état de l’objet. P.ex., `rosie.couleur` donne la couleur\n",
        "de la __Forme__ *rosie*.\n",
        "- **Méthodes** : fonctions internes, s’appliquant en premier lieu sur l’objet lui-même (*self*), décrivant\n",
        "les capacités de l’objet. P.ex. `rosie.change_couleur('bleu')` change la  couleur de la __Forme__ *rosie*.   \n",
        "<left> <b> <span style=\"color:brown;\"> Toutes les méthodes d’une classe doivent au moins prendre self – représentant\n",
        "l’objet lui-même – comme premier argument.</span> </b></left>\n",
        "- **Surcharge d’opérateurs** : cela permet de redéfinir les opérateurs et fonctions usuels (`+, abs(),str()`, etc.), pour simplifier l’écriture d’opérations sur les objets. Ainsi, on peut redéfinir les\n",
        "opérateurs de comparaison (`<, >=`, etc.) dans la classe **Forme** pour que les opérations du genre\n",
        "`forme1 < forme2` aient un sens (p.ex. en comparant les aires).\n",
        "[Liste des méthodes standard et des surcharges d’opérateur](http://rgruet.free.fr/PQR26/PQR2.6.html#SpecialMethods)\n",
        "- **Héritage de classe** : il s’agit de définir une classe à partir d’une (ou plusieurs) classe(s) pa-\n",
        "rente(s). La nouvelle classe *hérite* des attributs et méthodes de sa (ses) parente(s), que l’on peut\n",
        "alors modifier ou compléter. P.ex. la classe __Rectangle__ hérite de la classe __Forme__ (elle partage la\n",
        "notion de couleur et d’aire), et lui ajoute des méthodes propres à la notion de rectangle (p.ex.\n",
        "formule explicite de l’aire, étirement).\n",
        "\n",
        "<left> <b> <span style=\"color:brown;\">Toutes les classes doivent au moins hériter de la classe principale `object`.</span> </b></left>"
      ]
    },
    {
      "cell_type": "markdown",
      "metadata": {
        "id": "3Nlq1ijFFXyu"
      },
      "source": [
        "Dans cette section, nous présentons une ébauche de classe pour programmer quelques objets mathématiques. Nous allons partir d’un exemple concret, à savoir la notion de polynôme. \n",
        "\n",
        "La manière la plus naturelle de représenter un polynôme $p = a_0 + a_1 X + \\cdots + a_n X^n$ est d’utiliser une liste contenant ses coefficients $[a_0 , a_1 , \\cdots , a_n ]$. Si l’on dispose alors de deux listes `p1` et `p2` représentant\n",
        "deux polynômes, on souhaiterait pouvoir les additionner en utilisant l’opérateur +. De plus, on sou-\n",
        "haiterait pouvoir afficher le polynôme de manière conventionnelle. C’est ici que la définition\n",
        "d’une classe nous permettra de définir de nouvelles fonctions (les méthodes) propres aux plynômes.\n",
        "Pour créer un classe, on utilise le mot-clé `class`:"
      ]
    },
    {
      "cell_type": "code",
      "metadata": {
        "id": "LfMTd-4YFXyv"
      },
      "source": [
        "class Polynome:\n",
        "    \"\"\"Classe qui illustre la POO en Python sur des polynomes.\"\"\"\n",
        "    pass\n",
        "# Comme cette classe ne contient aucune methode, on utilise `pass` pour ne pas avoir d'erreurs."
      ],
      "execution_count": null,
      "outputs": []
    },
    {
      "cell_type": "markdown",
      "metadata": {
        "id": "npJSr6raFXy5"
      },
      "source": [
        "Comme dans le cas des fonctions, la `docstring` est indispensable."
      ]
    },
    {
      "cell_type": "markdown",
      "metadata": {
        "id": "HxRJCd7OFXy6"
      },
      "source": [
        "Ensuite, il faut définir le *constructeur* de la classe, c’est-à-dire la méthode qui nous permettra\n",
        "de créer (ou d’*instancier*) un objet de la classe polynôme. Le constructeur a toujours pour\n",
        "nom `__init__()` et prend en argument au moins un paramètre appelé `self`. Ce paramètre\n",
        "`self` fera toujours référence à l’objet instancié (à savoir ici un polynôme)."
      ]
    },
    {
      "cell_type": "code",
      "metadata": {
        "id": "9vH27OzwFXy7"
      },
      "source": [
        "class Polynome:\n",
        "    \n",
        "    \"\"\"Classe qui illustre la POO en Python sur des polynomes.\"\"\"\n",
        "    \n",
        "    def __init__(self, coefficients):\n",
        "        \"\"\"Initialisateur, permet de recuperer les coefficients du polynome.\"\"\"\n",
        "        self.coeffs = coefficients"
      ],
      "execution_count": null,
      "outputs": []
    },
    {
      "cell_type": "markdown",
      "metadata": {
        "id": "0FY9wxAFFXy8"
      },
      "source": [
        "Pour créer un objet de la classe polynôme, il nous suffira alors d’utiliser la syntaxe suivante :"
      ]
    },
    {
      "cell_type": "code",
      "metadata": {
        "id": "xC-8WgJjFXy9",
        "outputId": "7feb05de-fbfa-45f0-bfd2-83ff22bae846"
      },
      "source": [
        "p = Polynome([3, -2, 1]) # représente le polynôme 3-2.X+X^2\n",
        "p # "
      ],
      "execution_count": null,
      "outputs": [
        {
          "output_type": "execute_result",
          "data": {
            "text/plain": [
              "<__main__.Polynome at 0x7f37cb7f20f0>"
            ]
          },
          "metadata": {
            "tags": []
          },
          "execution_count": 3
        }
      ]
    },
    {
      "cell_type": "markdown",
      "metadata": {
        "id": "tSp2Jmt_FXzA"
      },
      "source": [
        "On va munir à présent les objets Polynome d’une méthode renvoyant le degré du polynôme :"
      ]
    },
    {
      "cell_type": "code",
      "metadata": {
        "id": "a843HS5xFXzB"
      },
      "source": [
        "class Polynome:\n",
        "    \n",
        "    \"\"\"Classe qui illustre la POO en Python sur des polynomes.\"\"\"\n",
        "    \n",
        "    def __init__(self, coefficients):\n",
        "        \"\"\"Initialisateur, permet de recuperer les coefficients du polynome.\"\"\"\n",
        "        self.coeffs = coefficients\n",
        "        \n",
        "        \n",
        "    def deg(self):\n",
        "        \"\"\"Permet d'obtenir le degre du polynome.\"\"\"\n",
        "        n = len(self.coeffs)\n",
        "        for i, c in enumerate(reversed(self.coeffs)):\n",
        "            if c != 0:\n",
        "                return n-1-i\n",
        "        return -1"
      ],
      "execution_count": null,
      "outputs": []
    },
    {
      "cell_type": "markdown",
      "metadata": {
        "id": "Q7dBkYgCFXzC"
      },
      "source": [
        "Pour appliquer cette méthode à un polynôme, on préfixera le nom de l’objet au nom de la\n",
        "méthode :"
      ]
    },
    {
      "cell_type": "code",
      "metadata": {
        "id": "XW7NzsQvFXzD"
      },
      "source": [
        "p = Polynome([3, -2, 1]) # représente le polynôme 3-2.X+X^2"
      ],
      "execution_count": null,
      "outputs": []
    },
    {
      "cell_type": "code",
      "metadata": {
        "id": "ye9lqzIdFXzE",
        "outputId": "2f27e04c-0022-43af-c3bb-9cd7cafcb773"
      },
      "source": [
        "p.deg()"
      ],
      "execution_count": null,
      "outputs": [
        {
          "output_type": "execute_result",
          "data": {
            "text/plain": [
              "2"
            ]
          },
          "metadata": {
            "tags": []
          },
          "execution_count": 6
        }
      ]
    },
    {
      "cell_type": "markdown",
      "metadata": {
        "id": "IpdqlL_fFXzF"
      },
      "source": [
        "On souhaiterait à présent définir l’addition de deux polynômes. Une première façon de faire\n",
        "consisterait à définir une méthode `ajoute()` . Pour ajouter deux polynômes, on écrirait alors\n",
        "`p1.ajoute(p2)`. L’idéal serait de pouvoir écrire plus simplement `p1+p2` . Pour cela, on va redéfinir (ou plus exactement *surcharger*) la méthode `__add__` définie par défaut à chaque défi-\n",
        "nition de classe (mais dont la définition par défaut ne rend pas cette méthode opérationnelle\n",
        "en général)."
      ]
    },
    {
      "cell_type": "code",
      "metadata": {
        "id": "pJH-ammMFXzF"
      },
      "source": [
        "class Polynome:\n",
        "    \n",
        "    \"\"\"Classe qui illustre la POO en Python sur des polynomes.\"\"\"\n",
        "    \n",
        "    def __init__(self, coefficients):\n",
        "        \"\"\"Initialisateur, permet de recuperer les coefficients du polynome.\"\"\"\n",
        "        self.coeffs = coefficients\n",
        "        \n",
        "    def deg(self):\n",
        "        \"\"\"Permet d'obtenir le degre du polynome.\"\"\"\n",
        "        n = len(self.coeffs)\n",
        "        for i, c in enumerate(reversed(self.coeffs)):\n",
        "            if c != 0:\n",
        "                return n-1-i\n",
        "        return -1\n",
        "\n",
        "\n",
        "    def __add__(self, other):\n",
        "        \"\"\"Surcharge de la fonction `add()`\"\"\"\n",
        "        if self.deg() < other.deg():\n",
        "            self, other = other, self\n",
        "        tmp = other.coeffs + [0]*(self.deg() - other.deg())\n",
        "        return Polynome([x+y for x, y in zip(self.coeffs, tmp)])"
      ],
      "execution_count": null,
      "outputs": []
    },
    {
      "cell_type": "code",
      "metadata": {
        "id": "ibtm3lXZFXzG"
      },
      "source": [
        "p1 = Polynome([3, -4, 6]) \n",
        "p2 = Polynome([-3, -1, 3]) "
      ],
      "execution_count": null,
      "outputs": []
    },
    {
      "cell_type": "markdown",
      "metadata": {
        "id": "uocIOnIdFXzH"
      },
      "source": [
        "Ainsi, les deux syntaxes suivantes seront possibles :"
      ]
    },
    {
      "cell_type": "code",
      "metadata": {
        "id": "zaEhvI3GFXzO",
        "outputId": "c4764cd8-cf8c-4df7-d8ca-0cf64ef76a16"
      },
      "source": [
        "p1 + p2 # équivaut à p1.__add__(p2)"
      ],
      "execution_count": null,
      "outputs": [
        {
          "output_type": "execute_result",
          "data": {
            "text/plain": [
              "<__main__.Polynome at 0x7f37caf83ef0>"
            ]
          },
          "metadata": {
            "tags": []
          },
          "execution_count": 9
        }
      ]
    },
    {
      "cell_type": "markdown",
      "metadata": {
        "id": "t8IoIdDlFXzP"
      },
      "source": [
        "Le résultat semble décevant et ce, même si on utilise la syntaxe `print(p1+p2)` . En fait, au\n",
        "moment de la définition de la classe, chaque objet possède par défaut non seulement une\n",
        "méthode `__add__()` , mais aussi une méthode` __str__()` qui est à surcharger par la suite\n",
        "pour personnaliser le type d’affichage d’un objet de la classe. \n",
        "\n",
        "La liste des méthodes fournies par défaut au moment de la définition d’une classe se trouve [ici](http://docs.python.org/py3k/reference/datamodel.html)\n",
        "\n",
        "Dans le cas present, ce que nous pourrions faire est donc ceci:"
      ]
    },
    {
      "cell_type": "code",
      "metadata": {
        "id": "AHF-U_c0FXzQ"
      },
      "source": [
        "class Polynome:\n",
        "    def __init__(self, coefficients):\n",
        "        self.coeffs = coefficients\n",
        "        \n",
        "    def deg(self):\n",
        "        n = len(self.coeffs)\n",
        "        for i, c in enumerate(reversed(self.coeffs)):\n",
        "            if c != 0:\n",
        "                return n-1-i\n",
        "        return -1\n",
        "\n",
        "\n",
        "    def __add__(self, other):\n",
        "        if self.deg() < other.deg():\n",
        "            self, other = other, self\n",
        "        tmp = other.coeffs + [0]*(self.deg() - other.deg())\n",
        "        return Polynome([x+y for x, y in zip(self.coeffs, tmp)]) \n",
        "    \n",
        "    def str_monome(self, i, c):\n",
        "        \"\"\"Surcharge de la fonction `add()`\"\"\"\n",
        "        coeffs = '{}'.format(c) if c >= 0 else '({})'.format(c)\n",
        "        indet = ('.X^{}'.format(i) if i > 1\n",
        "                else ('.X' if i == 1 else ''))\n",
        "        return ''.join([coeffs, indet])\n",
        "    \n",
        "    \n",
        "    def __str__(self):\n",
        "        \"\"\"Surcharge de la fonction `str()`\"\"\"\n",
        "        chaine = ' + '.join(self.str_monome(i, c)\n",
        "                for i, c in enumerate(self.coeffs) if c !=0)\n",
        "        chaine = chaine.replace(' 1.', ' ')\n",
        "        return chaine if chaine != '' else '0'"
      ],
      "execution_count": null,
      "outputs": []
    },
    {
      "cell_type": "markdown",
      "metadata": {
        "id": "K0gLf-3XFXzR"
      },
      "source": [
        "Pour améliorer l’affichage d’un polynôme, on a défini une fonction `str_monome()` qui affiche\n",
        "un monôme (par exemple, sous la forme (-2).X^3 ) en rajoutant des parenthèses autour des\n",
        "coefficients négatifs. Bien que cette fonction n’utilise pas le paramètre `self`, il est impératif\n",
        "que ce paramètre figure (et figure en premier) dans la liste des paramètres formels de la fonction `str_monome()`. C’est ce qui permettra d’appeler cette fonction dans une autre méthode\n",
        "de la classe, à savoir ici, la méthode `__str__()`."
      ]
    },
    {
      "cell_type": "code",
      "metadata": {
        "id": "3aHVEyBBFXzS",
        "outputId": "865bac7f-824f-4482-d95e-6075c15a71f9"
      },
      "source": [
        "print(Polynome([3, -2, 1])) # rép.: 3 + (-2).X + X^2"
      ],
      "execution_count": null,
      "outputs": [
        {
          "output_type": "stream",
          "text": [
            "3 + (-2).X + X^2\n"
          ],
          "name": "stdout"
        }
      ]
    },
    {
      "cell_type": "code",
      "metadata": {
        "id": "LsIjDJaIFXzT",
        "outputId": "31637960-b2e1-40e0-ab46-8b2ab783de18"
      },
      "source": [
        "De même, on pourrait programmer l’évaluation d’un polynôme en un point (en suivant la\n",
        "méthode de HÖRNER) :"
      ],
      "execution_count": null,
      "outputs": [
        {
          "output_type": "error",
          "ename": "SyntaxError",
          "evalue": "invalid syntax (<ipython-input-12-998dc4ee7d23>, line 1)",
          "traceback": [
            "\u001b[0;36m  File \u001b[0;32m\"<ipython-input-12-998dc4ee7d23>\"\u001b[0;36m, line \u001b[0;32m1\u001b[0m\n\u001b[0;31m    De même, on pourrait programmer l’évaluation d’un polynôme en un point (en suivant la\u001b[0m\n\u001b[0m          ^\u001b[0m\n\u001b[0;31mSyntaxError\u001b[0m\u001b[0;31m:\u001b[0m invalid syntax\n"
          ]
        }
      ]
    },
    {
      "cell_type": "code",
      "metadata": {
        "id": "sbCPeRPxFXzT",
        "outputId": "43e758d5-8557-4ffd-f8e7-74e1c979ea19"
      },
      "source": [
        "class Polynome:\n",
        "    def __init__(self, coefficients):\n",
        "        self.coeffs = coefficients\n",
        "        \n",
        "    def deg(self):\n",
        "        n = len(self.coeffs)\n",
        "        for i, c in enumerate(reversed(self.coeffs)):\n",
        "            if c != 0:\n",
        "                return n-1-i\n",
        "        return -1\n",
        "\n",
        "\n",
        "    def __add__(self, other):\n",
        "        if self.deg() < other.deg():\n",
        "            self, other = other, self\n",
        "        tmp = other.coeffs + [0]*(self.deg() - other.deg())\n",
        "        return Polynome([x+y for x, y in zip(self.coeffs, tmp)]) \n",
        "    \n",
        "    \n",
        "    def __str__(self):\n",
        "        chaine = ' + '.join(self.str_monome(i, c)\n",
        "                for i, c in enumerate(self.coeffs) if c !=0)\n",
        "        chaine = chaine.replace(' 1.', ' ')\n",
        "        return chaine if chaine != '' else '0'\n",
        "\n",
        "\n",
        "\n",
        "    def __call__(self, x):\n",
        "        \"\"\"\" Implementation de la méthode de HÖRNER\"\"\"\"\n",
        "        somme = 0\n",
        "        for c in reversed(self.coeffs):\n",
        "            somme = c + x*somme\n",
        "        return somme"
      ],
      "execution_count": null,
      "outputs": [
        {
          "output_type": "error",
          "ename": "SyntaxError",
          "evalue": "EOL while scanning string literal (<ipython-input-13-71f4f16a3504>, line 29)",
          "traceback": [
            "\u001b[0;36m  File \u001b[0;32m\"<ipython-input-13-71f4f16a3504>\"\u001b[0;36m, line \u001b[0;32m29\u001b[0m\n\u001b[0;31m    \"\"\"\" Implementation de la méthode de HÖRNER\"\"\"\"\u001b[0m\n\u001b[0m                                                   ^\u001b[0m\n\u001b[0;31mSyntaxError\u001b[0m\u001b[0;31m:\u001b[0m EOL while scanning string literal\n"
          ]
        }
      ]
    },
    {
      "cell_type": "markdown",
      "metadata": {
        "id": "qexCOWV9FXzU"
      },
      "source": [
        "Pour l’évaluation, on utiliserait alors la syntaxe :"
      ]
    },
    {
      "cell_type": "code",
      "metadata": {
        "id": "YkY2B4EiFXzV",
        "outputId": "c772880e-7dad-4b6a-aced-ba25c252710d"
      },
      "source": [
        "p(1.2) # équivalente à p.__call__(1.2)"
      ],
      "execution_count": null,
      "outputs": [
        {
          "output_type": "error",
          "ename": "TypeError",
          "evalue": "'Polynome' object is not callable",
          "traceback": [
            "\u001b[0;31m---------------------------------------------------------------------------\u001b[0m",
            "\u001b[0;31mTypeError\u001b[0m                                 Traceback (most recent call last)",
            "\u001b[0;32m<ipython-input-14-ade590a51156>\u001b[0m in \u001b[0;36m<module>\u001b[0;34m()\u001b[0m\n\u001b[0;32m----> 1\u001b[0;31m \u001b[0mp\u001b[0m\u001b[0;34m(\u001b[0m\u001b[0;36m1.2\u001b[0m\u001b[0;34m)\u001b[0m \u001b[0;31m# équivalente à p.__call__(1.2)\u001b[0m\u001b[0;34m\u001b[0m\u001b[0;34m\u001b[0m\u001b[0m\n\u001b[0m",
            "\u001b[0;31mTypeError\u001b[0m: 'Polynome' object is not callable"
          ]
        }
      ]
    },
    {
      "cell_type": "markdown",
      "metadata": {
        "id": "w5HueUU1FXzW"
      },
      "source": [
        "Le produit pourrait se programmer en définissant au préalable une fonction qui calcule le\n",
        "produit d’un polynôme par un monôme de la forme $cX^i$ :"
      ]
    },
    {
      "cell_type": "code",
      "metadata": {
        "id": "THjp7OyQFXzW"
      },
      "source": [
        "class Polynome:\n",
        "    def __init__(self, coefficients):\n",
        "        self.coeffs = coefficients\n",
        "        \n",
        "    def deg(self):\n",
        "        n = len(self.coeffs)\n",
        "        for i, c in enumerate(reversed(self.coeffs)):\n",
        "            if c != 0:\n",
        "                return n-1-i\n",
        "        return -1\n",
        "\n",
        "\n",
        "    def __add__(self, other):\n",
        "        if self.deg() < other.deg():\n",
        "            self, other = other, self\n",
        "        tmp = other.coeffs + [0]*(self.deg() - other.deg())\n",
        "        return Polynome([x+y for x, y in zip(self.coeffs, tmp)]) \n",
        "    \n",
        "    \n",
        "    def str_monome(self, i, c):\n",
        "        coeffs = '{}'.format(c) if c >= 0 else '({})'.format(c)\n",
        "        indet = ('.X^{}'.format(i) if i > 1\n",
        "            else ('.X' if i == 1 else ''))\n",
        "        return ''.join([coeffs, indet])\n",
        "    \n",
        "    def __str__(self):\n",
        "        chaine = ' + '.join(self.str_monome(i, c)\n",
        "                for i, c in enumerate(self.coeffs) if c !=0)\n",
        "        chaine = chaine.replace(' 1.', ' ')\n",
        "        return chaine if chaine != '' else '0'\n",
        "\n",
        "\n",
        "\n",
        "    def __call__(self, x):\n",
        "        somme = 0\n",
        "        for c in reversed(self.coeffs):\n",
        "            somme = c + x*somme\n",
        "        return somme\n",
        "\n",
        "\n",
        "\n",
        "    def mul_monome(self, i, c):\n",
        "        \"\"\"Le produit d’un polynôme par un monôme de la forme cX^i\"\"\"\n",
        "        return Polynome([0]*i + [c * x for x in self.coeffs])\n",
        "\n",
        "    def __mul__(self, other):\n",
        "        \"\"\"Le produit de deux polynômes et qui utilise la fonction mul_monome\"\"\"\n",
        "        tmp = Polynome([0])\n",
        "        for i, c in enumerate(other.coeffs):\n",
        "            tmp += self.mul_monome(i, c)\n",
        "        return tmp"
      ],
      "execution_count": null,
      "outputs": []
    },
    {
      "cell_type": "markdown",
      "metadata": {
        "id": "HnnB97xZFXzW"
      },
      "source": [
        "Le principal avantage de la notion de classe, est que l’on peut définir des classes dérivées\n",
        "d’une classe qui hériteront des méthodes de la classe parente. Ceci permet d’éviter de répéter\n",
        "des portions de code semblables. Pour définir une classe dérivée d’une classe parente, on\n",
        "utilise la syntaxe :\n",
        " ```python\n",
        "    class Dérivée(Parente):\n",
        "\n",
        "```"
      ]
    },
    {
      "cell_type": "code",
      "metadata": {
        "id": "0wHFEyFRFXzW",
        "outputId": "e38a1123-89cf-4ea1-ae4d-ab5b47039ddf"
      },
      "source": [
        "Aisni, pour représenter une fraction rationnelle, on pourrait définir une\n",
        "classe à partir de rien et programmer des méthodes similaires à celles définies pour les po-\n",
        "lynômes. Mais il est bien plus avantageux de se servir des méthodes programmées dans la\n",
        "classe des polynômes pour les utiliser au sein de la classe des fractions rationnelles. Nous\n",
        "allons donc définir la classe des fractions rationnelles en la faisant dériver de la classe des\n",
        "polynômes."
      ],
      "execution_count": null,
      "outputs": [
        {
          "output_type": "error",
          "ename": "SyntaxError",
          "evalue": "invalid syntax (<ipython-input-16-ebddb0a9bf5d>, line 1)",
          "traceback": [
            "\u001b[0;36m  File \u001b[0;32m\"<ipython-input-16-ebddb0a9bf5d>\"\u001b[0;36m, line \u001b[0;32m1\u001b[0m\n\u001b[0;31m    Aisni, pour représenter une fraction rationnelle, on pourrait définir une\u001b[0m\n\u001b[0m                          ^\u001b[0m\n\u001b[0;31mSyntaxError\u001b[0m\u001b[0;31m:\u001b[0m invalid syntax\n"
          ]
        }
      ]
    },
    {
      "cell_type": "code",
      "metadata": {
        "id": "tVo_miXxFXzX"
      },
      "source": [
        "class FracRationnelle(Polynome):\n",
        "    def __init__(self, numerateur, denominateur):\n",
        "        self.numer = numerateur\n",
        "        self.denom = denominateur\n",
        "        \n",
        "    def deg(self):\n",
        "        return self.numer.deg() - self.denom.deg()\n",
        "    \n",
        "    def __call__(self, x):\n",
        "        return self.numer.__call__(x) / self.denom.__call__(x)\n",
        "    \n",
        "    def __str__(self):\n",
        "        return (\"({}) / ({})\".format(self.numer, self.denom))\n",
        "    \n",
        "    def __add__(self, other):\n",
        "        numer = self.numer * other.denom + self.denom * other.numer\n",
        "        denom = self.denom * other.denom\n",
        "        return FracRationnelle(numer, denom)\n",
        "    \n",
        "    def __mul__(self, other):\n",
        "        numer = self.numer * other.numer\n",
        "        denom = self.denom * other.denom\n",
        "        return FracRationnelle(numer, denom)"
      ],
      "execution_count": null,
      "outputs": []
    },
    {
      "cell_type": "markdown",
      "metadata": {
        "id": "R5IB7VJ5FXzY"
      },
      "source": [
        "Voici quelques exemples d’utilisation de cette classe :"
      ]
    },
    {
      "cell_type": "code",
      "metadata": {
        "id": "Ye1pfEw9FXzY",
        "outputId": "e554997d-4b5b-4607-b45f-01ce2dd75502"
      },
      "source": [
        "p1, p2, p3 = Polynome([1]), Polynome([-1, 1]), Polynome([1, 1])\n",
        "r1, r2 = FracRationnelle(p1, p2), FracRationnelle(p1, p3)\n",
        "print(r1, r2, r1 + r2, r1 * r2, sep=' ; ')\n",
        "print(r1(-1.3))"
      ],
      "execution_count": null,
      "outputs": [
        {
          "output_type": "stream",
          "text": [
            "(1) / ((-1) + X) ; (1) / (1 + X) ; (2.X) / ((-1) + X^2) ; (1) / ((-1) + X^2)\n",
            "-0.4347826086956522\n"
          ],
          "name": "stdout"
        }
      ]
    },
    {
      "cell_type": "markdown",
      "metadata": {
        "id": "OYtSbuexFXzZ"
      },
      "source": [
        "On pourrait encore améliorer la définition de notre classe de fractions rationnelles, en définis-\n",
        "sant une classe de rationnels ; puis en faisant hériter la classe des fractions rationnelles non\n",
        "seulement de la classe des polynômes, mais aussi de la classe des rationnels. On parle dans ce\n",
        "cas d’héritage multiple."
      ]
    },
    {
      "cell_type": "code",
      "metadata": {
        "id": "YzpkSL0xFXzZ"
      },
      "source": [
        "class Rationnel:\n",
        "    def __init__(self, num, den):\n",
        "        self.numer = num\n",
        "        self.denom = den\n",
        "        \n",
        "    def __str__(self):\n",
        "        return (\"({}) / ({})\".format(self.numer, self.denom))   \n",
        "    \n",
        "    def __add__(self, other):\n",
        "        denom = self.denom * other.denom\n",
        "        numer = self.numer * other.denom + other.numer * self.denom\n",
        "        return Rationnel(numer, denom)\n",
        "    \n",
        "    def __mul__(self, other):\n",
        "        numer = self.numer * other.numer\n",
        "        denom = self.denom * other.denom\n",
        "        return Rationnel(numer, denom)\n",
        "    \n",
        "    \n",
        "class FracRationnelle(Rationnel, Polynome):\n",
        "    def __init__(self, numerateur, denominateur):\n",
        "        self.numer = numerateur\n",
        "        self.denom = denominateur\n",
        "        \n",
        "    def deg(self):\n",
        "        return self.numer.deg() - self.denom.deg()  \n",
        "    \n",
        "    def __call__(self, x):\n",
        "        return self.numer.__call__(x) / self.denom.__call__(x)\n",
        "    \n",
        "    def __add__(self, other):\n",
        "        tmp = (Rationnel(self.numer, self.denom) + Rationnel(other.numer, other.denom))\n",
        "        return FracRationnelle(tmp.numer, tmp.denom)\n",
        "    \n",
        "    def __mul__(self, other):\n",
        "        tmp = (Rationnel(self.numer, self.denom) * Rationnel(other.numer, other.denom))\n",
        "        return FracRationnelle(tmp.numer, tmp.denom)"
      ],
      "execution_count": null,
      "outputs": []
    },
    {
      "cell_type": "markdown",
      "metadata": {
        "id": "E6Y0MpBzFXza"
      },
      "source": [
        "On remarque dans ce cas qu’il est inutile de redéfinir une méthode `__str__()` pour la classe\n",
        "**FracRationnelle**, et que l’écriture des méthodes `__add__()` et `__mul__()` se trouve simplifiée."
      ]
    },
    {
      "cell_type": "markdown",
      "metadata": {
        "id": "MAfTD3ARFXza"
      },
      "source": [
        "Ces programmations de classes de polynômes, de nombres rationnels et de fractions rationnelles ne sont que des esquisses et sont loin d’être achevées. Le but dans cette section était\n",
        "simplement d’illustrer les notions de classe, de méthode, de surcharge des opérateurs, d’héritage. C’est au fil des exemples que leur manipulation deviendra de plus en plus naturelle.\n",
        "\n",
        "En guise de conclusion, rassemblons quelques remarques au vu des méthodes programmées\n",
        "précédemment.\n",
        "\n",
        " - Le paramètre `self` représente une instance quelconque (c’est-à-dire un objet) de la\n",
        "classe.\n",
        "\n",
        "<center>\n",
        "    <img src=\"https://github.com/gabayae/bases_de_programmation_python-colab/blob/main/images/classe1.png?raw=1\" width=\"50%\">\n",
        "    </center>\n",
        "    \n",
        "    \n",
        " - Le paramètre `self` est toujours le premier paramètre formel d’une méthode (de la classe)\n",
        "au moment de sa définition. En revanche, il n’apparaît plus dans la liste des paramètres\n",
        "d’une méthode (de la classe) au moment de son appel. En effet, il est alors préfixé au\n",
        "nom de la méthode appelée.   \n",
        "\n",
        "<center>\n",
        "    <img src=\"https://github.com/gabayae/bases_de_programmation_python-colab/blob/main/images/classe2.png?raw=1\" width=\"50%\">\n",
        "    </center>\n",
        "    \n",
        "  - Pour accéder à une autre méthode ou à un attribut à l’intérieur d’une méthode de la\n",
        "classe, il faut toujours préfixer le nom du paramètre self au nom de la méthode.  \n",
        "    \n",
        "<center>\n",
        "    <img src=\"https://github.com/gabayae/bases_de_programmation_python-colab/blob/main/images/classe3.png?raw=1\" width=\"60%\">\n",
        "    </center>"
      ]
    },
    {
      "cell_type": "markdown",
      "metadata": {
        "id": "mXr2F9ctFXzd"
      },
      "source": [
        "<!--NAVIGATION-->\n",
        "< [05. Fonctions,Modules et Packages](https://colab.research.google.com/github/gabayae/bases_de_programmation_python-colab/blob/main/05_Fonctions_Modules_et_Packages.ipynb#scrollTo=ngJQyYdgE5ul)| [Sommaire](https://colab.research.google.com/github/gabayae/bases_de_programmation_python-colab/blob/main/Index.ipynb#scrollTo=RWN5HlnaGJiA)>\n",
        "\n"
      ]
    }
  ]
}