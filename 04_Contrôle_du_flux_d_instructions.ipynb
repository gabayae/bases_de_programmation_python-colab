{
  "nbformat": 4,
  "nbformat_minor": 0,
  "metadata": {
    "kernelspec": {
      "display_name": "Python 3",
      "language": "python",
      "name": "python3"
    },
    "language_info": {
      "codemirror_mode": {
        "name": "ipython",
        "version": 3
      },
      "file_extension": ".py",
      "mimetype": "text/x-python",
      "name": "python",
      "nbconvert_exporter": "python",
      "pygments_lexer": "ipython3",
      "version": "3.7.3"
    },
    "varInspector": {
      "cols": {
        "lenName": 16,
        "lenType": 16,
        "lenVar": 40
      },
      "kernels_config": {
        "python": {
          "delete_cmd_postfix": "",
          "delete_cmd_prefix": "del ",
          "library": "var_list.py",
          "varRefreshCmd": "print(var_dic_list())"
        },
        "r": {
          "delete_cmd_postfix": ") ",
          "delete_cmd_prefix": "rm(",
          "library": "var_list.r",
          "varRefreshCmd": "cat(var_dic_list()) "
        }
      },
      "types_to_exclude": [
        "module",
        "function",
        "builtin_function_or_method",
        "instance",
        "_Feature"
      ],
      "window_display": false
    },
    "colab": {
      "name": "04.Contrôle_du_flux_d_instructions.ipynb",
      "provenance": [],
      "include_colab_link": true
    }
  },
  "cells": [
    {
      "cell_type": "markdown",
      "metadata": {
        "id": "view-in-github",
        "colab_type": "text"
      },
      "source": [
        "<a href=\"https://colab.research.google.com/github/gabayae/bases_de_programmation_python-colab/blob/main/04_Contr%C3%B4le_du_flux_d_instructions.ipynb\" target=\"_parent\"><img src=\"https://colab.research.google.com/assets/colab-badge.svg\" alt=\"Open In Colab\"/></a>"
      ]
    },
    {
      "cell_type": "markdown",
      "metadata": {
        "id": "BbiYDEKDETqc"
      },
      "source": [
        "****\n",
        "\n",
        "# <center> <b> <span style=\"color:orange;\"> Programmation en Python </span> </b></center>\n",
        "\n",
        "## <center> <b> <span style=\"color:green;\">Des applications en Calcul Scientifique -  Statistiques -  Science des Données</span> </b></center>\n",
        "\n",
        "\n",
        "\n",
        "****\n",
        "\n",
        "# <center> <b> <span style=\"color:blue;\">Contrôle du flux d'instructions </span> </b></center>\n",
        "\n",
        "<!--NAVIGATION-->\n",
        "< [03. Objets itérables ou conteneurs](https://colab.research.google.com/github/gabayae/bases_de_programmation_python-colab/blob/main/03_Objets_it%C3%A9rables_ou_conteneurs.ipynb#scrollTo=rZm9Kc-5W1vY)| [Sommaire](https://colab.research.google.com/github/gabayae/bases_de_programmation_python-colab/blob/main/Index.ipynb#scrollTo=RWN5HlnaGJiA) | [05. Fonctions,Modules et Packages](https://colab.research.google.com/github/gabayae/bases_de_programmation_python-colab/blob/main/05_Fonctions_Modules_et_Packages.ipynb) >\n",
        "\n",
        "\n",
        "****\n",
        "\n",
        "\n",
        "### <left> <b> <span style=\"color:brown;\">Instructeur : </span> </b></left>[Yaé Ulrich Gaba](https://github.com/gabayae)\n",
        "\n",
        "\n",
        "> **Résumé:** Un script Python est formé d’une suite d’instructions exécutées en séquence de\n",
        "haut en bas. Chaque ligne d’instructions est formée d’une ou plusieurs lignes physiques qui\n",
        "peuvent être continuées par un antislash `\\` ou un caractère ouvrant `[({` pas encore\n",
        "fermé. Cette exécution en séquence peut être modifiée pour choisir ou répéter des portions de code. C’est l’objet de ce calepin.\n",
        "****\n"
      ]
    },
    {
      "cell_type": "markdown",
      "metadata": {
        "id": "GYExn1qsETqk"
      },
      "source": [
        "## La structure conditionnelle\n",
        "Les instructions conditionnelles sont des opérations que le programme doit exécuter lorsqu’il\n",
        "expression logiques renvoie `True` ou `False` (selon le cas). Les instructions conditionnelles sont\n",
        "définies à l’intérieur d’une clause `if...else`\n",
        "\n",
        "La structure générale d’un bloc if...else se présente comme suit :\n",
        "\n",
        "```python\n",
        "if expression_logique :\n",
        "    instruction1\n",
        "    instruction2\n",
        "    ..\n",
        "    instructionn\n",
        "else :\n",
        "    autre_bloc_instructions\n",
        "```\n",
        "\n",
        "Attention au symbole `:` à la suite du mot clé if ou else qui marque la fin de la déclaration de\n",
        "la fonction if ou else et le début de la définition des instructions.\n",
        "Noter aussi que la clause else n’est pas obligatoire c'est-à-dire qu’il peut y avoir une clause if\n",
        "sans clause else.\n",
        "\n",
        "Il faut bien noter le rôle essentiel de l’*indentation* qui permet de délimiter chaque bloc d’ins-\n",
        "tructions et la présence des deux points après la condition du choix et après le mot clé `else`."
      ]
    },
    {
      "cell_type": "code",
      "metadata": {
        "id": "SDYjrW_0ETqm",
        "outputId": "b82164c7-ff04-413e-f556-d1da4225ceda"
      },
      "source": [
        "# Instructions avec une clause « if » simple\n",
        "a = 150\n",
        "if (a > 100):\n",
        "    print(\"a dépasse 100\")\n",
        "\n",
        "print(\"================================================\")\n",
        "print('\\t')\n",
        "    \n",
        "    \n",
        "# Instructions avec la clause if... else...\n",
        "x = 120\n",
        "if (x > 100):\n",
        "    print(\"x dépasse 100\")\n",
        "else:\n",
        "    print(\"x ne dépasse pas 100\")"
      ],
      "execution_count": null,
      "outputs": [
        {
          "output_type": "stream",
          "text": [
            "a dépasse 100\n",
            "================================================\n",
            "\t\n",
            "x dépasse 100\n"
          ],
          "name": "stdout"
        }
      ]
    },
    {
      "cell_type": "markdown",
      "metadata": {
        "id": "quptaulsETqq"
      },
      "source": [
        "### Instructions avec la clause if... elif... else...\n",
        "\n",
        "La clause `if... elif... else` est utilisée lorsqu’on dispose de plusieurs conditions logiques\n",
        "auxquelles sont associées des instructions à exécuter lorsqu’elles sont vérifiées.\n",
        "\n",
        "```python\n",
        "    x = 0\n",
        "    if x > 0 :\n",
        "        print(\"x est positif\")\n",
        "    elif x < 0 :\n",
        "        print(\"x est négatif\")\n",
        "    else:\n",
        "        print(\"x est nul\")\n",
        " ```       "
      ]
    },
    {
      "cell_type": "code",
      "metadata": {
        "id": "CQq0HnRhETqr",
        "outputId": "d6252aa2-e99b-41a0-f8d0-34b06e0eb7b0"
      },
      "source": [
        "x = 0\n",
        "if x > 0 :\n",
        "    print(\"Le nombre x = \",x,\"est positif\")\n",
        "elif x < 0 :\n",
        "    print(\"Le nombre x = \",x,\"est négatif\")\n",
        "else:\n",
        "    print(\"Le nombre x = \",x,\"est nul\")"
      ],
      "execution_count": null,
      "outputs": [
        {
          "output_type": "stream",
          "text": [
            "Le nombre x =  0 est nul\n"
          ],
          "name": "stdout"
        }
      ]
    },
    {
      "cell_type": "markdown",
      "metadata": {
        "id": "V5r_k4IEETqs"
      },
      "source": [
        "**NB:** Comme le demontre l'exemple utilise plus haur, la clause *elif* peut être utilisée autant de fois qu’il y a de conditions alternatives entre la\n",
        "clause initiale if et la clause finale else. Toutefois, l’utilisation de la clause elif n’est pas\n",
        "obligatoire pour traduire les conditions alternatives. On peut simplement utiliser la clause if à\n",
        "la place."
      ]
    },
    {
      "cell_type": "markdown",
      "metadata": {
        "id": "Glbqp_utETqu"
      },
      "source": [
        "### Définir des clauses « if » imbriquées\n",
        "Les exemples précédents traduisent des clause de premier niveau. Dans les programmes\n",
        "complexes, il arrive très fréquemment que les clauses if soient imbriquées. C'est-à-dire que des\n",
        "clauses if sont définies à l’intérieur d’autres clauses if. Et cela à plusieurs niveaux. Voir exemple\n",
        "ci-dessous :"
      ]
    },
    {
      "cell_type": "code",
      "metadata": {
        "id": "Z4IduU_dETqv",
        "outputId": "b4c2f048-ea3a-475a-801a-dbb311634695"
      },
      "source": [
        "embranchement = \"rien\"\n",
        "if embranchement == \"vertébrés\":\n",
        "    if classe == \"mammifères\":\n",
        "        if ordre == \"carnivores\":\n",
        "            if famille == \"félins\":\n",
        "                print(\"Il s’agit peut-être d’un chat\")\n",
        "        print(\"C’est en tous cas un mammifère\")\n",
        "    elif classe == \"oiseaux\":\n",
        "        print(\"c’est peut-être un canari\")\n",
        "print(\"La classification des animaux est complexe\")                "
      ],
      "execution_count": null,
      "outputs": [
        {
          "output_type": "stream",
          "text": [
            "La classification des animaux est complexe\n"
          ],
          "name": "stdout"
        }
      ]
    },
    {
      "cell_type": "markdown",
      "metadata": {
        "id": "WIx-2lNMETq4"
      },
      "source": [
        "## Les instructions en boucle\n",
        "\n",
        "Sous python, on distingue deux principales catégories d’instructions en boucles : les\n",
        "instructions en boucle **« while... »** et les instructions en boucle **« for... in... »**.\n",
        "\n",
        "### Les boucles while\n",
        "\n",
        "Après avoir introduit les structures de choix, nous nous intéressons aux structures de répé-\n",
        "tition : ces structures permettent d’exécuter à plusieurs reprises un bloc d’instructions. Ces\n",
        "répétitions se classent en deux catégories :\n",
        "  \n",
        "  - les répétitions conditionnelles : le bloc d’instructions est à répéter autant de fois qu’une\n",
        "condition est vérifiée.\n",
        "\n",
        "  - les répétitions inconditionnelles : le bloc d’instructions est répété un nombre donné de\n",
        "fois.\n",
        "\n",
        "La syntaxe générale de la définition des instructions en boucle while se présente comme suit :\n",
        "\n",
        "```python\n",
        "   Initialisation de la variable d’incrémentation\n",
        "   while condition :\n",
        "        bloc_instructions\n",
        "        incrémentation\n",
        "\n",
        "```\n",
        "\n",
        "Comme dans la\n",
        "structure if, la condition est d’abord évaluée et si elle vraie, le bloc d’instructions est exécuté.\n",
        "Mais ici avec la clause while après exécution du bloc d’instruction, la condition est évaluée à\n",
        "nouveau. Cette exécution se répète jusqu’à ce que la condition devienne fausse. C’est pourquoi\n",
        "il n’est nécessaire de définir une variable d’incrémentation dont la valeur se modifie après\n",
        "chaque exécution de sorte que la condition puisse être fausse à partir d’une certaine valeur.\n",
        "Cette incrémentation est nécessaire pour éviter que les instructions soient indéfiniment\n",
        "évaluées créant ainsi une boucle infinie (ou boucle folle). Une telle situation nécessite alors un\n",
        "arrêt forcé de l’exécution du programme."
      ]
    },
    {
      "cell_type": "code",
      "metadata": {
        "id": "P1_GxcL0ETq6",
        "outputId": "6d1fa3fe-d486-4372-a3a8-3c3d9337967d"
      },
      "source": [
        "x = 1 # Initialisation de la variable x\n",
        "while (x < 10):\n",
        "    print('La valeur de x est ', a)\n",
        "    x = x + 1 # Incrémentation de la variable x"
      ],
      "execution_count": null,
      "outputs": [
        {
          "output_type": "stream",
          "text": [
            "La valeur de x est  150\n",
            "La valeur de x est  150\n",
            "La valeur de x est  150\n",
            "La valeur de x est  150\n",
            "La valeur de x est  150\n",
            "La valeur de x est  150\n",
            "La valeur de x est  150\n",
            "La valeur de x est  150\n",
            "La valeur de x est  150\n"
          ],
          "name": "stdout"
        }
      ]
    },
    {
      "cell_type": "code",
      "metadata": {
        "id": "NC7hm7PqETq7",
        "outputId": "55fc90b4-f69f-41f1-b989-81d5ab0f318d"
      },
      "source": [
        "fruits = ['pommes', 'oranges', 'fraises', 'bananes']\n",
        "i = 0\n",
        "while i < len(fruits):\n",
        "    print (fruits[i])\n",
        "    i = i + 1"
      ],
      "execution_count": null,
      "outputs": [
        {
          "output_type": "stream",
          "text": [
            "pommes\n",
            "oranges\n",
            "fraises\n",
            "bananes\n"
          ],
          "name": "stdout"
        }
      ]
    },
    {
      "cell_type": "markdown",
      "metadata": {
        "id": "RGcBsK-dETq8"
      },
      "source": [
        "### Les instructions en boucle « for... in... »\n",
        "\n",
        "Lorsque l’on souhaite répéter un bloc d’instructions un nombre déterminé de fois, on peut\n",
        "utiliser un *compteur actif*, c’est-à-dire une variable qui compte le nombre de répétitions et\n",
        "conditionne la sortie de la boucle **while**. C’est le cas de l’exemple suivant où l’on définit une\n",
        "fonction qui prend en argument un entier `n` et affiche `n` fois le même message.\n",
        "\n",
        "Pour effectuer une telle répétition, on dispose d’une structure de répétition nous économisant\n",
        "d’une part l’initialisation du compteur `( i = 0 )`, et d’autre part son incrémentation `( i += 1 )`:\n",
        "c’est la structure introduite par le mot-clé `for`.\n",
        "\n",
        "La syntaxe générale de la définition d’instructions en boucle for... in... est la suivante :\n",
        "\n",
        "```python\n",
        "   for element in sequence_de_valeurs :\n",
        "        bloc instructions\n",
        "```        "
      ]
    },
    {
      "cell_type": "code",
      "metadata": {
        "id": "zQHav24vETq9",
        "outputId": "c4a69182-4ce1-43c9-fe82-ffb6a54555b6"
      },
      "source": [
        "n = 5\n",
        "for i in range(n):\n",
        "    print('Je me répète {} fois.' ' (i={})'.format(n, i))"
      ],
      "execution_count": null,
      "outputs": [
        {
          "output_type": "stream",
          "text": [
            "Je me répète 5 fois. (i=0)\n",
            "Je me répète 5 fois. (i=1)\n",
            "Je me répète 5 fois. (i=2)\n",
            "Je me répète 5 fois. (i=3)\n",
            "Je me répète 5 fois. (i=4)\n"
          ],
          "name": "stdout"
        }
      ]
    },
    {
      "cell_type": "code",
      "metadata": {
        "id": "yKN9HeoEETq-",
        "outputId": "9b2c6498-225c-4f31-8983-bfd467d84cab"
      },
      "source": [
        "# Instruction dans une boucle « for.. in ... » simple\n",
        "for i in range(1,11) :\n",
        "    print(i)"
      ],
      "execution_count": null,
      "outputs": [
        {
          "output_type": "stream",
          "text": [
            "1\n",
            "2\n",
            "3\n",
            "4\n",
            "5\n",
            "6\n",
            "7\n",
            "8\n",
            "9\n",
            "10\n"
          ],
          "name": "stdout"
        }
      ]
    },
    {
      "cell_type": "code",
      "metadata": {
        "id": "ySf3dqveETrA",
        "outputId": "2a6e6356-e160-420c-f1ea-d88868e6e407"
      },
      "source": [
        "# Boucle « for.. in... » sur une chaine de caractères\n",
        "listch = \"Hello world\"\n",
        "for i in listch :\n",
        "    print ( i )"
      ],
      "execution_count": null,
      "outputs": [
        {
          "output_type": "stream",
          "text": [
            "H\n",
            "e\n",
            "l\n",
            "l\n",
            "o\n",
            " \n",
            "w\n",
            "o\n",
            "r\n",
            "l\n",
            "d\n"
          ],
          "name": "stdout"
        }
      ]
    },
    {
      "cell_type": "code",
      "metadata": {
        "id": "wfgCx_G1ETrD",
        "outputId": "2365d948-9194-44ed-8ffc-ed3ed10dd67a"
      },
      "source": [
        "# Combinaison d’une boucle « for...in ... » et d’une clause « if »\n",
        "listnb = [4, 5, 6]\n",
        "for i in listnb:\n",
        "    if i == 5:\n",
        "        print(\"La condition est vérifiée pour l’élement\", i)\n",
        "    else :\n",
        "        print(\"La condition ,n’est pas vérifiée pour l’élément\", i)"
      ],
      "execution_count": null,
      "outputs": [
        {
          "output_type": "stream",
          "text": [
            "La condition ,n’est pas vérifiée pour l’élément 4\n",
            "La condition est vérifiée pour l’élement 5\n",
            "La condition ,n’est pas vérifiée pour l’élément 6\n"
          ],
          "name": "stdout"
        }
      ]
    },
    {
      "cell_type": "code",
      "metadata": {
        "id": "JGnTYdpfETrE",
        "outputId": "1aafbf2e-e781-4caa-8eb1-2eeda8e87e9b"
      },
      "source": [
        "# Combinaison d’une boucle « for...in ... » et d’une clause « if »\n",
        "mych = \"Hello World\"\n",
        "for lettre in mych :\n",
        "    if lettre in \"AEIOUYaeiouy\":\n",
        "        print ('La lettre', lettre, 'est une voyelle')\n",
        "    else :\n",
        "        print ('La lettre', lettre, 'est une consonne')"
      ],
      "execution_count": null,
      "outputs": [
        {
          "output_type": "stream",
          "text": [
            "La lettre H est une consonne\n",
            "La lettre e est une voyelle\n",
            "La lettre l est une consonne\n",
            "La lettre l est une consonne\n",
            "La lettre o est une voyelle\n",
            "La lettre   est une consonne\n",
            "La lettre W est une consonne\n",
            "La lettre o est une voyelle\n",
            "La lettre r est une consonne\n",
            "La lettre l est une consonne\n",
            "La lettre d est une consonne\n"
          ],
          "name": "stdout"
        }
      ]
    },
    {
      "cell_type": "code",
      "metadata": {
        "id": "7icSS26LETrF",
        "outputId": "dd49b21a-ffc4-41e0-f895-6b265867b0d9"
      },
      "source": [
        "# Combinaison d’une boucle « for...in ... » et d’une clause « if »\n",
        "# On tient compte de caractere `espace`\n",
        "mych = \"Hello World\"\n",
        "for lettre in mych :\n",
        "    if lettre in \"AEIOUYaeiouy\":\n",
        "        print ('La lettre', lettre, 'est une voyelle')\n",
        "    elif lettre == \" \" :\n",
        "        print (\"Il s'agit surement d'un espace\")\n",
        "    else :\n",
        "        print ('La lettre', lettre, 'est une consonne')"
      ],
      "execution_count": null,
      "outputs": [
        {
          "output_type": "stream",
          "text": [
            "La lettre H est une consonne\n",
            "La lettre e est une voyelle\n",
            "La lettre l est une consonne\n",
            "La lettre l est une consonne\n",
            "La lettre o est une voyelle\n",
            "Il s'agit surement d'un espace\n",
            "La lettre W est une consonne\n",
            "La lettre o est une voyelle\n",
            "La lettre r est une consonne\n",
            "La lettre l est une consonne\n",
            "La lettre d est une consonne\n"
          ],
          "name": "stdout"
        }
      ]
    },
    {
      "cell_type": "code",
      "metadata": {
        "id": "Lu9UmOlqETrH",
        "outputId": "24b78b44-fee6-4aee-b67d-f94c63514f94"
      },
      "source": [
        "fruits = ['mangue', 'orange', 'pomme', 'banane']\n",
        "couts = [49, 99, 15, 32]\n",
        "for fruit, prix in zip(fruits, couts):\n",
        "    print(\"Une\",fruit, \"coute\", prix, \"frs CFA.\")    "
      ],
      "execution_count": null,
      "outputs": [
        {
          "output_type": "stream",
          "text": [
            "Une mangue coute 49 frs CFA.\n",
            "Une orange coute 99 frs CFA.\n",
            "Une pomme coute 15 frs CFA.\n",
            "Une banane coute 32 frs CFA.\n"
          ],
          "name": "stdout"
        }
      ]
    },
    {
      "cell_type": "code",
      "metadata": {
        "id": "cMwfw8DBETrS",
        "outputId": "6cf94801-937f-4cbb-c187-8fc1721c0c9b"
      },
      "source": [
        "couts = {'mangue': 49, 'orange': 99, 'pomme': 15, 'banane': 32}\n",
        "for fruit, prix in couts.items():\n",
        "    print (\"Une\",fruit, \"coute\", prix, \"frs CFA.\")"
      ],
      "execution_count": null,
      "outputs": [
        {
          "output_type": "stream",
          "text": [
            "Une mangue coute 49 frs CFA.\n",
            "Une orange coute 99 frs CFA.\n",
            "Une pomme coute 15 frs CFA.\n",
            "Une banane coute 32 frs CFA.\n"
          ],
          "name": "stdout"
        }
      ]
    },
    {
      "cell_type": "markdown",
      "metadata": {
        "id": "H8_Jf3ycETrT"
      },
      "source": [
        "### Liste par compréhension\n",
        "Pour créer des listes, Python fournit une facilité syntaxique particulièrement agréable, à savoir les listes (définies) par compréhension (en anglais, *list-comprehensions*). Elles permettent\n",
        "de générer des listes d’une manière très concise, sans avoir à utiliser de boucles si les éléments doivent\n",
        "êtres testés ou traités avant d’être intégrés dans la liste.\n",
        "\n",
        "La syntaxe pour définir une liste par compréhension est proche de celle utilisée en mathématiques pour définir un ensemble par compréhension :"
      ]
    },
    {
      "cell_type": "markdown",
      "metadata": {
        "id": "GWsEiN9UETrT"
      },
      "source": [
        "# $$ \\{\\quad  f(x) \\quad | \\quad x \\in E \\quad \\} $$"
      ]
    },
    {
      "cell_type": "code",
      "metadata": {
        "id": "Yd_VznxuETrU",
        "outputId": "184102c7-42c8-417e-fab0-0371fcb7239b"
      },
      "source": [
        "liste = [2, 4, 6, 8, 10]\n",
        "\n",
        "\n",
        "print([3*x for x in liste])\n",
        "print(\"================================================\")\n",
        "print('\\t')\n",
        "\n",
        "\n",
        "\n",
        "print([[x, x**3] for x in liste])\n",
        "print(\"================================================\")\n",
        "print('\\t')\n",
        "\n",
        "\n",
        "\n",
        "print([3*x for x in liste if x > 5] )# on filtre avec une condition\n",
        "print(\"================================================\")\n",
        "print('\\t')\n",
        "\n",
        "\n",
        "\n",
        "print([3*x for x in liste if x**2 < 50]) # idem\n",
        "print(\"================================================\")\n",
        "print('\\t')\n",
        "\n",
        "\n",
        "liste2 = list(range(3))\n",
        "print([x*y for x in liste for y in liste2])\n"
      ],
      "execution_count": null,
      "outputs": [
        {
          "output_type": "stream",
          "text": [
            "[6, 12, 18, 24, 30]\n",
            "================================================\n",
            "\t\n",
            "[[2, 8], [4, 64], [6, 216], [8, 512], [10, 1000]]\n",
            "================================================\n",
            "\t\n",
            "[18, 24, 30]\n",
            "================================================\n",
            "\t\n",
            "[6, 12, 18]\n",
            "================================================\n",
            "\t\n",
            "[0, 2, 4, 0, 4, 8, 0, 6, 12, 0, 8, 16, 0, 10, 20]\n"
          ],
          "name": "stdout"
        }
      ]
    },
    {
      "cell_type": "code",
      "metadata": {
        "id": "SK_qEiZuETrV"
      },
      "source": [
        "# Voici par exemple, un moyen efficace d’obtenir la liste des années bissextiles dans un intervalle donné :\n",
        "bissextile = [b for b in range(2000, 2100) if (b % 4 ==0 and b % 100 != 0) or (b % 400 == 0)]"
      ],
      "execution_count": null,
      "outputs": []
    },
    {
      "cell_type": "markdown",
      "metadata": {
        "id": "6mQX8YNEETrV"
      },
      "source": [
        "### Les instructions break et continue dans une clause « while... » ou « for ... in...»\n",
        "Les mots réservés `break` et `continue` sont utilisés pour modifier le comportement d'une boucle\n",
        "« for...in » ou d'une boucle « while... ». L’instruction `break` permet d’arrêter l’évaluation de la\n",
        "boucle et l’exécution des instructions pour sortir prématurément de la boucle même la\n",
        "condition principale définissant la boucle reste encore vraie. Et l’instruction `continue` permet de\n",
        "suspendre l’exécution des instructions lorsque la condition principale est vérifiée. Les exemples\n",
        "ci-dessous sont des illustrations."
      ]
    },
    {
      "cell_type": "code",
      "metadata": {
        "id": "v0lD166nETrX",
        "outputId": "0da67f05-249b-49dc-ec0e-06a1e737c45e"
      },
      "source": [
        "# Boucle avec l’instruction break\n",
        "for i in range(5):\n",
        "    if i > 2:\n",
        "        break\n",
        "print (i)"
      ],
      "execution_count": null,
      "outputs": [
        {
          "output_type": "stream",
          "text": [
            "3\n"
          ],
          "name": "stdout"
        }
      ]
    },
    {
      "cell_type": "markdown",
      "metadata": {
        "id": "3px6zrYyETrX"
      },
      "source": [
        "Au départ, cette boucle for vise à afficher tous éléments de la séquence de valeurs allant de 1 à 4. Mais avec l’instruction break définie à l’intérieur de la clause if, la boucle for est stoppée\n",
        "lorsque i devient supérieur à 2."
      ]
    },
    {
      "cell_type": "code",
      "metadata": {
        "id": "UayGSjDFETrX",
        "outputId": "a6edad68-dfe4-416b-ab7b-d0b06670d756"
      },
      "source": [
        "# Boucle avec l’instruction continue\n",
        "for i in range(5):\n",
        "    if i == 2:\n",
        "        continue\n",
        "    print (i)"
      ],
      "execution_count": null,
      "outputs": [
        {
          "output_type": "stream",
          "text": [
            "0\n",
            "1\n",
            "3\n",
            "4\n"
          ],
          "name": "stdout"
        }
      ]
    },
    {
      "cell_type": "markdown",
      "metadata": {
        "id": "2y_sZAQPETrY"
      },
      "source": [
        "Au départ, cette boucle for est conçue pour afficher tous éléments de la séquence de valeurs\n",
        "allant de 1 à 4. Mais avec l’instruction continue définie à l’intérieur de la clause if, l’instruction\n",
        "print() n’est pas exécutée lorsque i prend la valeur 2. Mais elle est exécutée pour toutes les\n",
        "autres valeurs de la séquence."
      ]
    },
    {
      "cell_type": "markdown",
      "metadata": {
        "id": "VrFmSe_0ETrZ"
      },
      "source": [
        "<!--NAVIGATION-->\n",
        "< [03. Objets itérables ou conteneurs](https://colab.research.google.com/github/gabayae/bases_de_programmation_python-colab/blob/main/03_Objets_it%C3%A9rables_ou_conteneurs.ipynb#scrollTo=rZm9Kc-5W1vY)| [Sommaire](Index.ipynb) | [05. Fonctions,Modules et Packages](https://colab.research.google.com/github/gabayae/bases_de_programmation_python-colab/blob/main/05_Fonctions_Modules_et_Packages.ipynb) >\n",
        "\n"
      ]
    }
  ]
}